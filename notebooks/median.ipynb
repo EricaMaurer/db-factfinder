{
 "cells": [
  {
   "cell_type": "code",
   "execution_count": 21,
   "metadata": {},
   "outputs": [],
   "source": [
    "from factfinder.calculate import Calculate\n",
    "from dotenv import load_dotenv\n",
    "import os\n"
   ]
  },
  {
   "cell_type": "code",
   "execution_count": 22,
   "metadata": {},
   "outputs": [],
   "source": [
    "try:\n",
    "    env_path = \"../.env\"\n",
    "    load_dotenv(dotenv_path=env_path)\n",
    "except:\n",
    "    print(\".env file is missing ...\")"
   ]
  },
  {
   "cell_type": "code",
   "execution_count": 23,
   "metadata": {},
   "outputs": [],
   "source": [
    "calculate = Calculate(\n",
    "        api_key=os.environ[\"API_KEY\"], year=2019, source=\"acs\", geography='2010_to_2020'\n",
    "    )"
   ]
  },
  {
   "cell_type": "code",
   "execution_count": 24,
   "metadata": {},
   "outputs": [],
   "source": [
    "# Calculate 2010 and 2020 mdvl values\n",
    "df2020 = calculate('mdvl', 'CT20')\n",
    "df2010 = calculate('mdvl', 'tract')"
   ]
  },
  {
   "cell_type": "code",
   "execution_count": 25,
   "metadata": {},
   "outputs": [
    {
     "data": {
      "text/html": [
       "<div>\n",
       "<style scoped>\n",
       "    .dataframe tbody tr th:only-of-type {\n",
       "        vertical-align: middle;\n",
       "    }\n",
       "\n",
       "    .dataframe tbody tr th {\n",
       "        vertical-align: top;\n",
       "    }\n",
       "\n",
       "    .dataframe thead th {\n",
       "        text-align: right;\n",
       "    }\n",
       "</style>\n",
       "<table border=\"1\" class=\"dataframe\">\n",
       "  <thead>\n",
       "    <tr style=\"text-align: right;\">\n",
       "      <th></th>\n",
       "      <th>census_geoid</th>\n",
       "      <th>labs_geoid</th>\n",
       "      <th>geotype</th>\n",
       "      <th>labs_geotype</th>\n",
       "      <th>pff_variable</th>\n",
       "      <th>c</th>\n",
       "      <th>e</th>\n",
       "      <th>m</th>\n",
       "      <th>p</th>\n",
       "      <th>z</th>\n",
       "    </tr>\n",
       "  </thead>\n",
       "  <tbody>\n",
       "    <tr>\n",
       "      <th>1236</th>\n",
       "      <td>36061007001</td>\n",
       "      <td>1007001</td>\n",
       "      <td>CT20</td>\n",
       "      <td>CT2020</td>\n",
       "      <td>mdvl</td>\n",
       "      <td>25.5</td>\n",
       "      <td>1286266.0</td>\n",
       "      <td>539404.0</td>\n",
       "      <td>100.0</td>\n",
       "      <td>NaN</td>\n",
       "    </tr>\n",
       "    <tr>\n",
       "      <th>1237</th>\n",
       "      <td>36061007002</td>\n",
       "      <td>1007002</td>\n",
       "      <td>CT20</td>\n",
       "      <td>CT2020</td>\n",
       "      <td>mdvl</td>\n",
       "      <td>24.1</td>\n",
       "      <td>1278841.0</td>\n",
       "      <td>506524.0</td>\n",
       "      <td>100.0</td>\n",
       "      <td>NaN</td>\n",
       "    </tr>\n",
       "  </tbody>\n",
       "</table>\n",
       "</div>"
      ],
      "text/plain": [
       "     census_geoid labs_geoid geotype labs_geotype pff_variable     c  \\\n",
       "1236  36061007001    1007001    CT20       CT2020         mdvl  25.5   \n",
       "1237  36061007002    1007002    CT20       CT2020         mdvl  24.1   \n",
       "\n",
       "              e         m      p   z  \n",
       "1236  1286266.0  539404.0  100.0 NaN  \n",
       "1237  1278841.0  506524.0  100.0 NaN  "
      ]
     },
     "execution_count": 25,
     "metadata": {},
     "output_type": "execute_result"
    }
   ],
   "source": [
    "df2020.loc[df2020.labs_geoid.isin(['1007001', '1007002']), :]"
   ]
  },
  {
   "cell_type": "code",
   "execution_count": 26,
   "metadata": {},
   "outputs": [
    {
     "data": {
      "text/html": [
       "<div>\n",
       "<style scoped>\n",
       "    .dataframe tbody tr th:only-of-type {\n",
       "        vertical-align: middle;\n",
       "    }\n",
       "\n",
       "    .dataframe tbody tr th {\n",
       "        vertical-align: top;\n",
       "    }\n",
       "\n",
       "    .dataframe thead th {\n",
       "        text-align: right;\n",
       "    }\n",
       "</style>\n",
       "<table border=\"1\" class=\"dataframe\">\n",
       "  <thead>\n",
       "    <tr style=\"text-align: right;\">\n",
       "      <th></th>\n",
       "      <th>census_geoid</th>\n",
       "      <th>labs_geoid</th>\n",
       "      <th>geotype</th>\n",
       "      <th>labs_geotype</th>\n",
       "      <th>pff_variable</th>\n",
       "      <th>c</th>\n",
       "      <th>e</th>\n",
       "      <th>m</th>\n",
       "      <th>p</th>\n",
       "      <th>z</th>\n",
       "    </tr>\n",
       "  </thead>\n",
       "  <tbody>\n",
       "    <tr>\n",
       "      <th>151</th>\n",
       "      <td>36061007000</td>\n",
       "      <td>1007000</td>\n",
       "      <td>tract</td>\n",
       "      <td>CT2010</td>\n",
       "      <td>mdvl</td>\n",
       "      <td>17.5</td>\n",
       "      <td>1288800.0</td>\n",
       "      <td>371746.0</td>\n",
       "      <td>100.0</td>\n",
       "      <td>NaN</td>\n",
       "    </tr>\n",
       "  </tbody>\n",
       "</table>\n",
       "</div>"
      ],
      "text/plain": [
       "    census_geoid labs_geoid geotype labs_geotype pff_variable     c  \\\n",
       "151  36061007000    1007000   tract       CT2010         mdvl  17.5   \n",
       "\n",
       "             e         m      p   z  \n",
       "151  1288800.0  371746.0  100.0 NaN  "
      ]
     },
     "execution_count": 26,
     "metadata": {},
     "output_type": "execute_result"
    }
   ],
   "source": [
    "df2010.loc[df2010.labs_geoid.isin(['1007000']), :]"
   ]
  },
  {
   "cell_type": "code",
   "execution_count": 27,
   "metadata": {},
   "outputs": [
    {
     "name": "stdout",
     "output_type": "stream",
     "text": [
      "{'ovlu10': [0, 9999], 'ovl10t14': [10000, 14999], 'ovl15t19': [15000, 19999], 'ovl20t24': [20000, 24999], 'ovl25t29': [25000, 29999], 'ovl30t34': [30000, 34999], 'ovl35t39': [35000, 39999], 'ovl40t49': [40000, 49999], 'ovl50t59': [50000, 59999], 'ovl60t69': [60000, 69999], 'ovl70t79': [70000, 79999], 'ovl80t89': [80000, 89999], 'ovl90t99': [90000, 99999], 'ov100t124': [100000, 124999], 'ov125t149': [125000, 149999], 'ov150t174': [150000, 174999], 'ov175t199': [175000, 199999], 'ov200t249': [200000, 249999], 'ov250t299': [250000, 299999], 'ov300t399': [300000, 399999], 'ov400t499': [400000, 499999], 'ov500t749': [500000, 749999], 'ov750t999': [750000, 999999], 'ov1t149m': [1000000, 1499999], 'ov150t199m': [1500000, 1999999], 'ov2milpl': [2000000, 5000000]}\n",
      "1.4\n"
     ]
    }
   ],
   "source": [
    "pff_variable = 'mdvl'\n",
    "geotype = 'CT20'\n",
    "\n",
    "# Get ranges and design factor from metadata\n",
    "ranges = calculate.meta.median_ranges(pff_variable)\n",
    "print(ranges)\n",
    "design_factor = calculate.meta.median_design_factor(pff_variable)\n",
    "print(design_factor)"
   ]
  },
  {
   "cell_type": "code",
   "execution_count": 28,
   "metadata": {},
   "outputs": [
    {
     "name": "stdout",
     "output_type": "stream",
     "text": [
      "     census_geoid pff_variable geotype           e           m\n",
      "1236  36061007001       ovlu10    CT20    0.000000         NaN\n",
      "1237  36061007002       ovlu10    CT20    0.000000         NaN\n",
      "1236  36061007001     ovl10t14    CT20    0.000000         NaN\n",
      "1237  36061007002     ovl10t14    CT20    0.000000         NaN\n",
      "1236  36061007001     ovl15t19    CT20    0.000000         NaN\n",
      "1237  36061007002     ovl15t19    CT20    0.000000         NaN\n",
      "1236  36061007001     ovl20t24    CT20    0.000000         NaN\n",
      "1237  36061007002     ovl20t24    CT20    0.000000         NaN\n",
      "1236  36061007001     ovl25t29    CT20    0.000000         NaN\n",
      "1237  36061007002     ovl25t29    CT20    0.000000         NaN\n",
      "1236  36061007001     ovl30t34    CT20    0.000000         NaN\n",
      "1237  36061007002     ovl30t34    CT20    0.000000         NaN\n",
      "1236  36061007001     ovl35t39    CT20    0.000000         NaN\n",
      "1237  36061007002     ovl35t39    CT20    0.000000         NaN\n",
      "1236  36061007001     ovl40t49    CT20    0.000000         NaN\n",
      "1237  36061007002     ovl40t49    CT20    0.000000         NaN\n",
      "1236  36061007001     ovl50t59    CT20    0.000000         NaN\n",
      "1237  36061007002     ovl50t59    CT20    0.000000         NaN\n",
      "1236  36061007001     ovl60t69    CT20    0.000000         NaN\n",
      "1237  36061007002     ovl60t69    CT20    0.000000         NaN\n",
      "1236  36061007001     ovl70t79    CT20    0.000000         NaN\n",
      "1237  36061007002     ovl70t79    CT20    0.000000         NaN\n",
      "1236  36061007001     ovl80t89    CT20    0.000000         NaN\n",
      "1237  36061007002     ovl80t89    CT20    0.000000         NaN\n",
      "1236  36061007001     ovl90t99    CT20    0.000000         NaN\n",
      "1237  36061007002     ovl90t99    CT20    0.000000         NaN\n",
      "1236  36061007001    ov100t124    CT20    0.000000         NaN\n",
      "1237  36061007002    ov100t124    CT20    0.000000         NaN\n",
      "1236  36061007001    ov125t149    CT20    0.000000         NaN\n",
      "1237  36061007002    ov125t149    CT20    0.000000         NaN\n",
      "1236  36061007001    ov150t174    CT20    0.000000         NaN\n",
      "1237  36061007002    ov150t174    CT20    0.000000         NaN\n",
      "1236  36061007001    ov175t199    CT20   13.064142   31.200970\n",
      "1237  36061007002    ov175t199    CT20   14.935858   33.670970\n",
      "1236  36061007001    ov200t249    CT20   23.795401   42.546777\n",
      "1237  36061007002    ov200t249    CT20   27.204599   45.914959\n",
      "1236  36061007001    ov250t299    CT20    0.000000         NaN\n",
      "1237  36061007002    ov250t299    CT20    0.000000         NaN\n",
      "1236  36061007001    ov300t399    CT20   30.794048   70.202182\n",
      "1237  36061007002    ov300t399    CT20   35.205952   75.759683\n",
      "1236  36061007001    ov400t499    CT20   50.390260   66.656617\n",
      "1237  36061007002    ov400t499    CT20   57.609740   71.933436\n",
      "1236  36061007001    ov500t749    CT20   34.526660   59.565487\n",
      "1237  36061007002    ov500t749    CT20   39.473340   64.280943\n",
      "1236  36061007001    ov750t999    CT20   43.858190   52.474358\n",
      "1237  36061007002    ov750t999    CT20   50.141810   56.628450\n",
      "1236  36061007001     ov1t149m    CT20   83.517191   85.093553\n",
      "1237  36061007002     ov1t149m    CT20   95.482809   91.829918\n",
      "1236  36061007001   ov150t199m    CT20   93.781874  124.803878\n",
      "1237  36061007002   ov150t199m    CT20  107.218126  134.683880\n",
      "1236  36061007001     ov2milpl    CT20  107.312592   99.984925\n",
      "1237  36061007002     ov2milpl    CT20  122.687408  107.900154\n"
     ]
    }
   ],
   "source": [
    "# Calculate inputs in 2020 geogs\n",
    "df = calculate.calculate_e_m_multiprocessing(list(ranges.keys()), geotype)\n",
    "print(df.loc[df.census_geoid.isin(['36061007001', '36061007002']), :])"
   ]
  },
  {
   "cell_type": "code",
   "execution_count": 29,
   "metadata": {},
   "outputs": [
    {
     "name": "stdout",
     "output_type": "stream",
     "text": [
      "                     e                                                        \\\n",
      "pff_variable ov100t124 ov125t149 ov150t174  ov150t199m  ov175t199   ov1t149m   \n",
      "census_geoid                                                                   \n",
      "36061007001        0.0       0.0       0.0   93.781874  13.064142  83.517191   \n",
      "36061007002        0.0       0.0       0.0  107.218126  14.935858  95.482809   \n",
      "\n",
      "                                                          ...           \\\n",
      "pff_variable  ov200t249 ov250t299    ov2milpl  ov300t399  ... ovl25t29   \n",
      "census_geoid                                              ...            \n",
      "36061007001   23.795401       0.0  107.312592  30.794048  ...      0.0   \n",
      "36061007002   27.204599       0.0  122.687408  35.205952  ...      0.0   \n",
      "\n",
      "                                                                             \\\n",
      "pff_variable ovl30t34 ovl35t39 ovl40t49 ovl50t59 ovl60t69 ovl70t79 ovl80t89   \n",
      "census_geoid                                                                  \n",
      "36061007001       0.0      0.0      0.0      0.0      0.0      0.0      0.0   \n",
      "36061007002       0.0      0.0      0.0      0.0      0.0      0.0      0.0   \n",
      "\n",
      "                              \n",
      "pff_variable ovl90t99 ovlu10  \n",
      "census_geoid                  \n",
      "36061007001       0.0    0.0  \n",
      "36061007002       0.0    0.0  \n",
      "\n",
      "[2 rows x 26 columns]\n"
     ]
    }
   ],
   "source": [
    "# 3. create a pivot table with census_geoid as the index, and\n",
    "# pff_variable as column names. df_pivoted.e -> the estimation dataframe\n",
    "df_pivoted = df.loc[df.census_geoid.isin(['36061007001', '36061007002']), [\"census_geoid\", \"pff_variable\", \"e\"]].pivot(\n",
    "    index=\"census_geoid\", columns=\"pff_variable\", values=[\"e\"]\n",
    ")\n",
    "print(df_pivoted)"
   ]
  },
  {
   "cell_type": "code",
   "execution_count": 30,
   "metadata": {},
   "outputs": [
    {
     "name": "stdout",
     "output_type": "stream",
     "text": [
      "     census_geoid labs_geoid geotype labs_geotype pff_variable     c  \\\n",
      "1236  36061007001    1007001    CT20       CT2020         mdvl  25.5   \n",
      "1237  36061007002    1007002    CT20       CT2020         mdvl  24.1   \n",
      "\n",
      "              e         m      p   z  \n",
      "1236  1286266.0  539404.0  100.0 NaN  \n",
      "1237  1278841.0  506524.0  100.0 NaN  \n"
     ]
    }
   ],
   "source": [
    "full_calc = calculate(pff_variable, geotype)\n",
    "print(full_calc.loc[full_calc.census_geoid.isin(['36061007001', '36061007002']),:])"
   ]
  }
 ],
 "metadata": {
  "interpreter": {
   "hash": "75371cd3c5ecd442c3beab879b92f620aa5f133f8c54bee4eee1a26c01085919"
  },
  "kernelspec": {
   "display_name": "Python 3.9.4 64-bit ('pff-factfinder-Gy5E4KFG-py3.9': poetry)",
   "name": "python3"
  },
  "language_info": {
   "codemirror_mode": {
    "name": "ipython",
    "version": 3
   },
   "file_extension": ".py",
   "mimetype": "text/x-python",
   "name": "python",
   "nbconvert_exporter": "python",
   "pygments_lexer": "ipython3",
   "version": "3.9.4"
  },
  "orig_nbformat": 4
 },
 "nbformat": 4,
 "nbformat_minor": 2
}